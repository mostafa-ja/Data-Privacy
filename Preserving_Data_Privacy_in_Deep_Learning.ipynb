{
  "nbformat": 4,
  "nbformat_minor": 0,
  "metadata": {
    "colab": {
      "provenance": [],
      "authorship_tag": "ABX9TyMcidtps7XPi/annx+a5n9T",
      "include_colab_link": true
    },
    "kernelspec": {
      "name": "python3",
      "display_name": "Python 3"
    },
    "language_info": {
      "name": "python"
    },
    "accelerator": "GPU",
    "gpuClass": "standard"
  },
  "cells": [
    {
      "cell_type": "markdown",
      "metadata": {
        "id": "view-in-github",
        "colab_type": "text"
      },
      "source": [
        "<a href=\"https://colab.research.google.com/github/mostafa-ja/Data-Privacy/blob/main/Preserving_Data_Privacy_in_Deep_Learning.ipynb\" target=\"_parent\"><img src=\"https://colab.research.google.com/assets/colab-badge.svg\" alt=\"Open In Colab\"/></a>"
      ]
    },
    {
      "cell_type": "code",
      "execution_count": 1,
      "metadata": {
        "id": "U42vj0iALoZ_"
      },
      "outputs": [],
      "source": [
        "import os\n",
        "import random\n",
        "from tqdm import tqdm\n",
        "import numpy as np\n",
        "import torch, torchvision\n",
        "import torch.nn as nn\n",
        "import torch.nn.functional as F\n",
        "import torch.optim as optim\n",
        "from torchvision import datasets, transforms\n",
        "from torch.utils.data.dataset import Dataset \n",
        "torch.backends.cudnn.benchmark=True"
      ]
    },
    {
      "cell_type": "code",
      "source": [
        "##### Hyperparameters for federated learning #########\n",
        "num_clients = 20\n",
        "num_selected = 6\n",
        "num_rounds = 150\n",
        "epochs = 5\n",
        "batch_size = 32"
      ],
      "metadata": {
        "id": "PurEzUrS_vSM"
      },
      "execution_count": 14,
      "outputs": []
    },
    {
      "cell_type": "markdown",
      "source": [
        "**3. Loading and dividing CIFAR 10 into clients**\n",
        "\n",
        "CIFAR10 dataset is used in this tutorial. It consists of 60,000 color images of 32x32 pixels in 10 classes. There are 50,000 training images and 10,000 test images. In the training batch, there are 5,000 images from each class, which makes 50,000 in total.\n",
        "\n",
        "In this tutorial, images are equally divided into clients, thus representing the balanced (IID) case."
      ],
      "metadata": {
        "id": "iFRgOpbjImjB"
      }
    },
    {
      "cell_type": "markdown",
      "source": [
        "\n",
        "\n",
        "```\n",
        " generator = torch.Generator().manual_seed(42)\n",
        " random_split(range(10), [3, 7], generator=generator)\n",
        "\n",
        " train_data.data.shape[0]\n",
        "```\n",
        "\n"
      ],
      "metadata": {
        "id": "rG3I695vEFxH"
      }
    },
    {
      "cell_type": "code",
      "source": [
        "\n",
        "#############################################################\n",
        "##### Creating desired data distribution among clients  #####\n",
        "#############################################################\n",
        "\n",
        "# Image augmentation \n",
        "transform_train = transforms.Compose([\n",
        "    transforms.RandomCrop(32,padding=4),\n",
        "    transforms.RandomHorizontalFlip(),\n",
        "    transforms.ToTensor(),\n",
        "    transforms.Normalize((0.4914, 0.4822, 0.4465), (0.2023, 0.1994, 0.2010))\n",
        "])\n",
        "\n",
        "# Loading CIFAR10 using torchvision.datasets\n",
        "train_data = datasets.CIFAR10('./train_data',train=True,download=True,\n",
        "                              transform=transform_train)\n",
        "\n",
        "# Dividing the training data into num_clients, with each client having equal number of images\n",
        "train_data_split = torch.utils.data.random_split(train_data,[int(train_data.data.shape[0]/num_clients) for _ in range(num_clients) ])\n",
        "\n",
        "# Creating a pytorch loader for a Deep Learning model\n",
        "train_loader = [torch.utils.data.DataLoader(x,batch_size=batch_size,shuffle=True) for x in train_data_split ]\n",
        "\n",
        "# Normalizing the test images\n",
        "transform_test = transforms.Compose([\n",
        "    transforms.ToTensor(),\n",
        "    transforms.Normalize((0.4914, 0.4822, 0.4465), (0.2023, 0.1994, 0.2010)),\n",
        "])\n",
        "\n",
        "# Loading the test iamges and thus converting them into a test_loader\n",
        "test_data = datasets.CIFAR10('./test_data',train=False,download=True,transform=transform_test)\n",
        "test_loader = torch.utils.data.DataLoader(test_data,batch_size=batch_size,shuffle=True)"
      ],
      "metadata": {
        "colab": {
          "base_uri": "https://localhost:8080/"
        },
        "id": "RJAxl19cBl5c",
        "outputId": "404272db-be83-465b-ae8f-40d5539b0417"
      },
      "execution_count": 15,
      "outputs": [
        {
          "output_type": "stream",
          "name": "stdout",
          "text": [
            "Files already downloaded and verified\n",
            "Files already downloaded and verified\n"
          ]
        }
      ]
    },
    {
      "cell_type": "markdown",
      "source": [
        "**4. Building the Neural Network (Model Architecture)**\n",
        "\n",
        "VGG19 (16 convolution layers, 3 Fully Connected layers, 5 MaxPool layers, and 1 SoftMax layer) are used in this tutorial. There are other variants of VGG like VGG11, VGG13, and VGG16."
      ],
      "metadata": {
        "id": "2Y_STXb-IriA"
      }
    },
    {
      "cell_type": "code",
      "source": [
        "\n",
        "#################################\n",
        "##### Neural Network model #####\n",
        "#################################\n",
        "\n",
        "cfg = {\n",
        "    'VGG11': [64, 'M', 128, 'M', 256, 256, 'M', 512, 512, 'M', 512, 512, 'M'],\n",
        "    'VGG13': [64, 64, 'M', 128, 128, 'M', 256, 256, 'M', 512, 512, 'M', 512, 512, 'M'],\n",
        "    'VGG16': [64, 64, 'M', 128, 128, 'M', 256, 256, 256, 'M', 512, 512, 512, 'M', 512, 512, 512, 'M'],\n",
        "    'VGG19': [64, 64, 'M', 128, 128, 'M', 256, 256, 256, 256, 'M', 512, 512, 512, 512, 'M', 512, 512, 512, 512, 'M'],\n",
        "}\n",
        "\n",
        "class VGG(nn.Module):\n",
        "  def __init__(self,vgg_name):\n",
        "    super(VGG,self).__init__()\n",
        "    self.features = self.make_layers(cfg[vgg_name])\n",
        "    self.classifier = nn.Sequential(\n",
        "        nn.Linear(512,512),\n",
        "        nn.ReLU(True),\n",
        "        nn.Linear(512,512),\n",
        "        nn.ReLU(True),\n",
        "        nn.Linear(512,10)\n",
        "    )\n",
        "\n",
        "  def forward(self,x):\n",
        "    out = self.feature(x)\n",
        "    out = out.view(out.size(0),-1)\n",
        "    out = out.classifier(out)\n",
        "    output = F.log_softmax(out,dim=1)\n",
        "    return output\n",
        "\n",
        "  def make_layers(self,cfg):\n",
        "    layers = []\n",
        "    in_channels = 3\n",
        "    for x in cfg:\n",
        "      if x == 'M':\n",
        "        layers += [nn.MaxPool2d(kernel_size=2,stride=2)]\n",
        "      else:\n",
        "        layers += [nn.Conv2d(in_channels,x,kernel_size=3,padding=1),\n",
        "                   nn.BatchNorm2d(x),\n",
        "                   nn.ReLU(inplace=True)]\n",
        "        in_channels = x\n",
        "    layers += [nn.AvgPool2d(kernel_size=1,stride=1)]\n",
        "    return nn.Sequential(*layers)\n"
      ],
      "metadata": {
        "id": "vXTtz06RIX5f"
      },
      "execution_count": 16,
      "outputs": []
    },
    {
      "cell_type": "markdown",
      "source": [
        "**5. Helper functions for Federated training**\n",
        "\n",
        "The client_update function train the client model on private client data. This is the local training round that takes place at num_selected clients, i.e. 6 in our case."
      ],
      "metadata": {
        "id": "DSDDdbkEPH4s"
      }
    },
    {
      "cell_type": "code",
      "source": [
        "device = torch.device(\"cuda\" if torch.cuda.is_available() else \"cpu\")"
      ],
      "metadata": {
        "id": "0YbeZrkKRrlw"
      },
      "execution_count": 18,
      "outputs": []
    },
    {
      "cell_type": "code",
      "source": [
        "def client_update(client_model,optimizer,train_loader,epoch=5):\n",
        "    \"\"\"\n",
        "    This function updates/trains client model on client data\n",
        "    \"\"\"\n",
        "    client_model.train()\n",
        "    for e in range(epoch):\n",
        "      for batch_idx, (data,target) in enumerate(train_loader):\n",
        "        data,target = data.to(device), target.to(device)\n",
        "        optimizer.zero_grad()\n",
        "        output = client_model(data)\n",
        "        loss = F.nll_loss(output,target)\n",
        "        loss.backward()\n",
        "        optimizer.step()\n",
        "    return loss.item()"
      ],
      "metadata": {
        "id": "WlPIWYrvPKp7"
      },
      "execution_count": 31,
      "outputs": []
    },
    {
      "cell_type": "markdown",
      "source": [
        "The server_aggregate function aggregates the model weights received from every client and updates the global model with the updated weights. In this tutorial, the mean of the weights is taken and aggregated into the global weights."
      ],
      "metadata": {
        "id": "kXDB4nKiSKRF"
      }
    },
    {
      "cell_type": "code",
      "source": [
        "global_model =  VGG('VGG19')\n",
        "global_model.state_dict().keys()"
      ],
      "metadata": {
        "colab": {
          "base_uri": "https://localhost:8080/"
        },
        "id": "sTUHJTymc4HI",
        "outputId": "911c90b3-1660-4edc-d485-eb3f481ea037"
      },
      "execution_count": 24,
      "outputs": [
        {
          "output_type": "execute_result",
          "data": {
            "text/plain": [
              "odict_keys(['features.0.weight', 'features.0.bias', 'features.1.weight', 'features.1.bias', 'features.1.running_mean', 'features.1.running_var', 'features.1.num_batches_tracked', 'features.3.weight', 'features.3.bias', 'features.4.weight', 'features.4.bias', 'features.4.running_mean', 'features.4.running_var', 'features.4.num_batches_tracked', 'features.7.weight', 'features.7.bias', 'features.8.weight', 'features.8.bias', 'features.8.running_mean', 'features.8.running_var', 'features.8.num_batches_tracked', 'features.10.weight', 'features.10.bias', 'features.11.weight', 'features.11.bias', 'features.11.running_mean', 'features.11.running_var', 'features.11.num_batches_tracked', 'features.14.weight', 'features.14.bias', 'features.15.weight', 'features.15.bias', 'features.15.running_mean', 'features.15.running_var', 'features.15.num_batches_tracked', 'features.17.weight', 'features.17.bias', 'features.18.weight', 'features.18.bias', 'features.18.running_mean', 'features.18.running_var', 'features.18.num_batches_tracked', 'features.20.weight', 'features.20.bias', 'features.21.weight', 'features.21.bias', 'features.21.running_mean', 'features.21.running_var', 'features.21.num_batches_tracked', 'features.23.weight', 'features.23.bias', 'features.24.weight', 'features.24.bias', 'features.24.running_mean', 'features.24.running_var', 'features.24.num_batches_tracked', 'features.27.weight', 'features.27.bias', 'features.28.weight', 'features.28.bias', 'features.28.running_mean', 'features.28.running_var', 'features.28.num_batches_tracked', 'features.30.weight', 'features.30.bias', 'features.31.weight', 'features.31.bias', 'features.31.running_mean', 'features.31.running_var', 'features.31.num_batches_tracked', 'features.33.weight', 'features.33.bias', 'features.34.weight', 'features.34.bias', 'features.34.running_mean', 'features.34.running_var', 'features.34.num_batches_tracked', 'features.36.weight', 'features.36.bias', 'features.37.weight', 'features.37.bias', 'features.37.running_mean', 'features.37.running_var', 'features.37.num_batches_tracked', 'features.40.weight', 'features.40.bias', 'features.41.weight', 'features.41.bias', 'features.41.running_mean', 'features.41.running_var', 'features.41.num_batches_tracked', 'features.43.weight', 'features.43.bias', 'features.44.weight', 'features.44.bias', 'features.44.running_mean', 'features.44.running_var', 'features.44.num_batches_tracked', 'features.46.weight', 'features.46.bias', 'features.47.weight', 'features.47.bias', 'features.47.running_mean', 'features.47.running_var', 'features.47.num_batches_tracked', 'features.49.weight', 'features.49.bias', 'features.50.weight', 'features.50.bias', 'features.50.running_mean', 'features.50.running_var', 'features.50.num_batches_tracked', 'classifier.0.weight', 'classifier.0.bias', 'classifier.2.weight', 'classifier.2.bias', 'classifier.4.weight', 'classifier.4.bias'])"
            ]
          },
          "metadata": {},
          "execution_count": 24
        }
      ]
    },
    {
      "cell_type": "code",
      "source": [
        "global_model.state_dict()['features.0.weight']"
      ],
      "metadata": {
        "colab": {
          "base_uri": "https://localhost:8080/"
        },
        "id": "uPX_RYRIe56m",
        "outputId": "15d0341b-4fe1-42e1-cd50-04c296deee6a"
      },
      "execution_count": 28,
      "outputs": [
        {
          "output_type": "execute_result",
          "data": {
            "text/plain": [
              "tensor([[[[ 0.1366,  0.0596, -0.0798],\n",
              "          [ 0.1199,  0.0196,  0.0883],\n",
              "          [ 0.0668,  0.1739, -0.1121]],\n",
              "\n",
              "         [[ 0.1293, -0.1833,  0.1544],\n",
              "          [-0.0344,  0.1713,  0.1240],\n",
              "          [ 0.0082,  0.1193,  0.0688]],\n",
              "\n",
              "         [[ 0.0994,  0.0762,  0.1342],\n",
              "          [ 0.0485, -0.1548, -0.0862],\n",
              "          [-0.0078, -0.1192, -0.1714]]],\n",
              "\n",
              "\n",
              "        [[[ 0.1879,  0.1798,  0.0564],\n",
              "          [-0.0872,  0.1548,  0.1568],\n",
              "          [-0.0010,  0.0340, -0.0174]],\n",
              "\n",
              "         [[-0.0467,  0.0537, -0.1300],\n",
              "          [ 0.1463, -0.0179,  0.0988],\n",
              "          [-0.1136, -0.1654,  0.0659]],\n",
              "\n",
              "         [[-0.1503, -0.0274, -0.1403],\n",
              "          [-0.1400,  0.0326, -0.1004],\n",
              "          [-0.1807, -0.1003, -0.0130]]],\n",
              "\n",
              "\n",
              "        [[[-0.0496, -0.0325, -0.0815],\n",
              "          [-0.0211, -0.0342,  0.0562],\n",
              "          [-0.0146, -0.1743, -0.0661]],\n",
              "\n",
              "         [[-0.0767, -0.0736, -0.0893],\n",
              "          [-0.1195, -0.0914,  0.0179],\n",
              "          [ 0.1260,  0.1250,  0.0732]],\n",
              "\n",
              "         [[-0.1283, -0.1084,  0.1397],\n",
              "          [ 0.0746,  0.1525, -0.0877],\n",
              "          [ 0.1882,  0.1883, -0.0423]]],\n",
              "\n",
              "\n",
              "        ...,\n",
              "\n",
              "\n",
              "        [[[-0.0695, -0.0925,  0.1686],\n",
              "          [ 0.0097,  0.1419,  0.0068],\n",
              "          [ 0.0985,  0.0838,  0.0295]],\n",
              "\n",
              "         [[ 0.1288, -0.0004,  0.0183],\n",
              "          [-0.1762, -0.0164, -0.1258],\n",
              "          [-0.0785,  0.1310, -0.1161]],\n",
              "\n",
              "         [[-0.0995,  0.0237, -0.1818],\n",
              "          [-0.1731,  0.1721, -0.1898],\n",
              "          [-0.0623, -0.0786,  0.0007]]],\n",
              "\n",
              "\n",
              "        [[[-0.0524, -0.1798,  0.0863],\n",
              "          [-0.0846,  0.1709,  0.1691],\n",
              "          [-0.1858,  0.1404,  0.0390]],\n",
              "\n",
              "         [[ 0.0024, -0.0974, -0.1007],\n",
              "          [-0.1561, -0.0117,  0.1695],\n",
              "          [-0.0561,  0.0398, -0.1210]],\n",
              "\n",
              "         [[-0.1570,  0.0902,  0.0920],\n",
              "          [ 0.1460, -0.1033, -0.1271],\n",
              "          [ 0.1613, -0.0746,  0.0305]]],\n",
              "\n",
              "\n",
              "        [[[ 0.0754, -0.1548,  0.0684],\n",
              "          [ 0.1365, -0.1075, -0.0909],\n",
              "          [ 0.1219, -0.1856, -0.1671]],\n",
              "\n",
              "         [[-0.0858, -0.1863,  0.1564],\n",
              "          [ 0.1808,  0.1416,  0.0700],\n",
              "          [-0.1602,  0.1876, -0.0795]],\n",
              "\n",
              "         [[ 0.0520, -0.1140,  0.1468],\n",
              "          [ 0.0522, -0.0367,  0.0234],\n",
              "          [-0.0051, -0.1483,  0.0982]]]])"
            ]
          },
          "metadata": {},
          "execution_count": 28
        }
      ]
    },
    {
      "cell_type": "code",
      "source": [
        "def server_aggregate(global_model, client_models):\n",
        "  \"\"\"\n",
        "  This function has aggregation method 'mean'\n",
        "  \"\"\"\n",
        "  ### This will take simple mean of the weights of models ###\n",
        "  global_dict = global_model.state_dict()\n",
        "  for k in global_dict.keys():\n",
        "    global_dict[k] = torch.stack([client_models[i].state_dict()[k].float() for i in range(len(client_models))],0).mean(0)\n",
        "  \n",
        "  # update the server model and clients model\n",
        "  global_model.load_state_dict(global_dict)\n",
        "  for model in client_models:\n",
        "    model.load_state_dict(global_model.state_dict())\n"
      ],
      "metadata": {
        "id": "MSX5_fddSLPR"
      },
      "execution_count": 29,
      "outputs": []
    },
    {
      "cell_type": "markdown",
      "source": [
        "The test function is the standard function, which takes the global model along with the test loader as the input and returns the test loss and accuracy."
      ],
      "metadata": {
        "id": "lcZ74HYrgtM-"
      }
    },
    {
      "cell_type": "code",
      "source": [
        "def test(global_model,test_loader):\n",
        "  \"\"\"This function test the global model on test data and returns test loss and test accuracy \"\"\"\n",
        "  \n",
        "  global_model.eval()\n",
        "  test_loss = 0\n",
        "  correct = 0\n",
        "  with torch.no_grad():\n",
        "      for data, target in test_loader:\n",
        "          data, target = data.to(device), target.to(device)\n",
        "          output = global_model(data)\n",
        "          test_loss += F.nll_loss(output, target, reduction='sum').item()  # sum up batch loss\n",
        "          pred = output.argmax(dim=1, keepdim=True)  # get the index of the max log-probability\n",
        "          correct += pred.eq(target.view_as(pred)).sum().item()\n",
        "\n",
        "  test_loss /= len(test_loader.dataset)\n",
        "  acc = correct / len(test_loader.dataset)\n",
        "\n",
        "  return test_loss, acc\n"
      ],
      "metadata": {
        "id": "RahDvBgOgqn9"
      },
      "execution_count": null,
      "outputs": []
    },
    {
      "cell_type": "markdown",
      "source": [
        "**6. Training the model**\n",
        "\n",
        "One global model, along with the individual client_models is initialized with VGG19 on a GPU. In this tutorial, SGD is used as an optimizer for all the client models."
      ],
      "metadata": {
        "id": "9Gdpd9pUi3nV"
      }
    },
    {
      "cell_type": "code",
      "source": [
        "############################################\n",
        "#### Initializing models and optimizer  ####\n",
        "############################################\n",
        "\n",
        "#### global model ##########\n",
        "global_model =  VGG('VGG19').to(device)\n",
        "\n",
        "############## client models ##############\n",
        "client_models = [ VGG('VGG19').to(device) for _ in range(num_selected)]\n",
        "for model in client_models:\n",
        "    model.load_state_dict(global_model.state_dict()) ### initial synchronizing with global model \n",
        "\n",
        "############### optimizers ################\n",
        "opt = [optim.SGD(model.parameters(), lr=0.1) for model in client_models]"
      ],
      "metadata": {
        "id": "b8EZXgRNi1Eu"
      },
      "execution_count": null,
      "outputs": []
    },
    {
      "cell_type": "markdown",
      "source": [
        "Instead of VGG19, one can also use VGG11, VGG13, and VGG16. Other optimizers are also available and one can check the link for more details."
      ],
      "metadata": {
        "id": "f8LrUIYWj7gO"
      }
    },
    {
      "cell_type": "code",
      "source": [
        "\n",
        "###### List containing info about learning #########\n",
        "losses_train = []\n",
        "losses_test = []\n",
        "acc_train = []\n",
        "acc_test = []\n",
        "# Runnining FL\n",
        "\n",
        "for r in range(num_rounds):\n",
        "    # select random clients\n",
        "    client_idx = np.random.permutation(num_clients)[:num_selected]\n",
        "    # client update\n",
        "    loss = 0\n",
        "    for i in tqdm(range(num_selected)):\n",
        "        loss += client_update(client_models[i], opt[i], train_loader[client_idx[i]], epoch=epochs)\n",
        "    \n",
        "    losses_train.append(loss)\n",
        "    # server aggregate\n",
        "    server_aggregate(global_model, client_models)\n",
        "    \n",
        "    test_loss, acc = test(global_model, test_loader)\n",
        "    losses_test.append(test_loss)\n",
        "    acc_test.append(acc)\n",
        "    print('%d-th round' % r)\n",
        "    print('average train loss %0.3g | test loss %0.3g | test acc: %0.3f' % (loss / num_selected, test_loss, acc))"
      ],
      "metadata": {
        "id": "ATW2NQVwjbAb"
      },
      "execution_count": null,
      "outputs": []
    }
  ]
}