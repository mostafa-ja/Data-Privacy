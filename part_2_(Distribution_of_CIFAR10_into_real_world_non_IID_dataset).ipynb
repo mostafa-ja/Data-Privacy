{
  "nbformat": 4,
  "nbformat_minor": 0,
  "metadata": {
    "colab": {
      "provenance": [],
      "authorship_tag": "ABX9TyOd50F+3BrS4uf9jDyF26Xm",
      "include_colab_link": true
    },
    "kernelspec": {
      "name": "python3",
      "display_name": "Python 3"
    },
    "language_info": {
      "name": "python"
    }
  },
  "cells": [
    {
      "cell_type": "markdown",
      "metadata": {
        "id": "view-in-github",
        "colab_type": "text"
      },
      "source": [
        "<a href=\"https://colab.research.google.com/github/mostafa-ja/Data-Privacy/blob/main/part_2_(Distribution_of_CIFAR10_into_real_world_non_IID_dataset).ipynb\" target=\"_parent\"><img src=\"https://colab.research.google.com/assets/colab-badge.svg\" alt=\"Open In Colab\"/></a>"
      ]
    },
    {
      "cell_type": "markdown",
      "source": [
        "Preserving Data Privacy in Deep Learning | Part 2\n",
        "\n",
        "[tutorial link](https://towardsdatascience.com/preserving-data-privacy-in-deep-learning-part-2-6c2e9494398b)"
      ],
      "metadata": {
        "id": "xWUnP99V-1Z_"
      }
    },
    {
      "cell_type": "code",
      "execution_count": null,
      "metadata": {
        "id": "JEEq9i-j-blL"
      },
      "outputs": [],
      "source": [
        "import os\n",
        "import random\n",
        "from tqdm import tqdm\n",
        "import numpy as np\n",
        "import torch, torchvision\n",
        "from torchvision import datasets, transforms\n",
        "from torch.utils.data.dataset import Dataset\n",
        "from torchvision import transforms \n",
        "from torchvision.transforms import Compose \n",
        "torch.backends.cudnn.benchmark=True"
      ]
    },
    {
      "cell_type": "markdown",
      "source": [
        "REAL-WORLD DATASET: CIFAR 10 is randomly divided into the given number of clients. So, a client can have images from any number of classes, say, one client has images from only 1 class and another client has images from 5 classes. This type of dataset replicates the real-world scenario where clients can have different types of images.\n",
        "\n",
        "NON-IID DATASET: The real-world dataset also comes into this category. However, for this case, a different type of distribution is done where the CIFAR10 dataset is divided based on the classes per client parameter. E.g., if classes per client=2, all the clients will have images from any two classes randomly selected from all the classes."
      ],
      "metadata": {
        "id": "i8lnYg05_UB8"
      }
    },
    {
      "cell_type": "markdown",
      "source": [
        "\n",
        "![figure 1](https://miro.medium.com/v2/resize:fit:786/format:webp/1*jaKwFW2IxN0b9xypzfI3Cw.png)\n",
        "\n",
        "![figure 2](https://miro.medium.com/v2/resize:fit:1400/format:webp/1*sckFS4hgFaoyozOUgSv4Jw.png)\n"
      ],
      "metadata": {
        "id": "M7jTXNgt_cb5"
      }
    },
    {
      "cell_type": "markdown",
      "source": [
        "**real_wd:** We are creating two types of datasets, one is the real-world dataset (Figure 1) and another is the extreme non-IID dataset (Figure 2). If real_wd is TRUE then dataset replicating real-life is created, i.e. real-world dataset (figure 1). If real_wd is FALSE (by default) then the extreme non-IID dataset is created."
      ],
      "metadata": {
        "id": "6FW4EoLMAEUr"
      }
    },
    {
      "cell_type": "code",
      "source": [
        "classes_pc = 2\n",
        "num_clients = 20\n",
        "batch_size = 32\n",
        "real_wd = False #False: non_iid dataset, True: Real-world dataset"
      ],
      "metadata": {
        "id": "3IVu79UW_J4l"
      },
      "execution_count": null,
      "outputs": []
    },
    {
      "cell_type": "code",
      "source": [],
      "metadata": {
        "id": "G9XWkqff_LDY"
      },
      "execution_count": null,
      "outputs": []
    }
  ]
}